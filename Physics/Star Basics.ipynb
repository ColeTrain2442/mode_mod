{
 "cells": [
  {
   "cell_type": "markdown",
   "metadata": {},
   "source": [
    "### Physical Constants"
   ]
  },
  {
   "cell_type": "code",
   "execution_count": 1,
   "metadata": {},
   "outputs": [],
   "source": [
    "G_si = 6.673*10**(-11)   #Gravitational constant in m^3 kg^(-1) s^(-2)\n",
    "h_si = 6.626*10**(-34)   #Planck constant in J s\n",
    "k_si = 1.381*10**(-23)   #Boltzmann constant in m^2 kg s^(-2) K^(-1)\n",
    "SB_si = 5.670*10^(-8)    #Stefan-Boltzmann constant in W m^(-2) K^(-4)"
   ]
  },
  {
   "cell_type": "markdown",
   "metadata": {},
   "source": [
    "### Solar Constants"
   ]
  },
  {
   "cell_type": "code",
   "execution_count": 2,
   "metadata": {},
   "outputs": [],
   "source": [
    "M_sol_si = 1.989*10**30    #mass of sun in kg\n",
    "R_sol_si = 6.955*10**7     #radius of sun in m\n",
    "L_sol_si = 3.839*10^(26)   #luminosity of sun in W"
   ]
  }
 ],
 "metadata": {
  "kernelspec": {
   "display_name": "Python 3",
   "language": "python",
   "name": "python3"
  },
  "language_info": {
   "codemirror_mode": {
    "name": "ipython",
    "version": 3
   },
   "file_extension": ".py",
   "mimetype": "text/x-python",
   "name": "python",
   "nbconvert_exporter": "python",
   "pygments_lexer": "ipython3",
   "version": "3.7.6"
  }
 },
 "nbformat": 4,
 "nbformat_minor": 4
}
