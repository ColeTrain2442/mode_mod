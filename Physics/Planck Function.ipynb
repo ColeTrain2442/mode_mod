{
 "cells": [
  {
   "cell_type": "code",
   "execution_count": null,
   "metadata": {},
   "outputs": [],
   "source": [
    "import numpy as np\n",
    "import matplotlib.pyplot as plt"
   ]
  },
  {
   "cell_type": "code",
   "execution_count": null,
   "metadata": {},
   "outputs": [],
   "source": [
    "h=6.626*10**(-34)\n",
    "c=3*10**8\n",
    "k=1.38*10**-23\n",
    "T1=20000\n",
    "T2=40000\n",
    "x=np.arange(10**-9,10**-2,0.5*10**-9)\n",
    "peak_1=(2.90*10**(-3))/(T1)/(10**-10)\n",
    "peak_2=(2.90*10**(-3))/(T2)/(10**-10)\n",
    "\n",
    "def planckFun(x,T):\n",
    "    a=(h*c)/(k*T)\n",
    "    planck=((2*h*c**2)/(x**5))*(1/((np.exp(a/x))-1))\n",
    "    return planck\n",
    "\n",
    "planck1=planckFun(x=x,T=T1)\n",
    "planck2=planckFun(x=x,T=T2)\n",
    "\n",
    "plt.loglog(x,planck1,label=\"20000K\")\n",
    "print(\"Temperature is %s K\" %T1)\n",
    "print(\"Peak wavelength for 20000K is %s Angstroms\" %peak_1)\n",
    "plt.loglog(x,planck2,label=\"40000K\")\n",
    "print(\"Temperature is %s K\" %T2)\n",
    "print(\"Peak wavelength for 40000K is %s Angstroms\" %peak_2)\n",
    "plt.xlabel(\"log(λ) in m\")\n",
    "plt.ylabel(\"log(B(λ,T)) in W/m^2\")\n",
    "plt.legend(loc=\"lower right\")\n",
    "plt.show()"
   ]
  },
  {
   "cell_type": "code",
   "execution_count": null,
   "metadata": {},
   "outputs": [],
   "source": []
  }
 ],
 "metadata": {
  "kernelspec": {
   "display_name": "Python 3",
   "language": "python",
   "name": "python3"
  },
  "language_info": {
   "codemirror_mode": {
    "name": "ipython",
    "version": 3
   },
   "file_extension": ".py",
   "mimetype": "text/x-python",
   "name": "python",
   "nbconvert_exporter": "python",
   "pygments_lexer": "ipython3",
   "version": "3.7.6"
  }
 },
 "nbformat": 4,
 "nbformat_minor": 4
}
