{
 "cells": [
  {
   "cell_type": "code",
   "execution_count": 1,
   "metadata": {},
   "outputs": [],
   "source": [
    "import numpy as np\n",
    "import matplotlib.pyplot as plt\n",
    "from matplotlib.lines import Line2D"
   ]
  },
  {
   "cell_type": "code",
   "execution_count": 2,
   "metadata": {},
   "outputs": [],
   "source": [
    "Bold = \"\\033[1m\"\n",
    "Red = \"\\033[91m\"\n",
    "Blue = \"\\033[94m\"\n",
    "Yellow = \"\\033[93m\"\n",
    "Normal = \"\\033[0m\""
   ]
  },
  {
   "cell_type": "code",
   "execution_count": 5,
   "metadata": {},
   "outputs": [
    {
     "name": "stdout",
     "output_type": "stream",
     "text": [
      "How many layers? 1j\n"
     ]
    }
   ],
   "source": [
    "#imput order of cube (layers) below\n",
    "L = int(input(\"How many layers? \"))"
   ]
  },
  {
   "cell_type": "code",
   "execution_count": 6,
   "metadata": {},
   "outputs": [
    {
     "ename": "TypeError",
     "evalue": "'<' not supported between instances of 'str' and 'int'",
     "output_type": "error",
     "traceback": [
      "\u001b[1;31m---------------------------------------------------------------------------\u001b[0m",
      "\u001b[1;31mTypeError\u001b[0m                                 Traceback (most recent call last)",
      "Input \u001b[1;32mIn [6]\u001b[0m, in \u001b[0;36m<cell line: 1>\u001b[1;34m()\u001b[0m\n\u001b[1;32m----> 1\u001b[0m \u001b[38;5;28;01mif\u001b[39;00m \u001b[43mL\u001b[49m\u001b[43m \u001b[49m\u001b[38;5;241;43m<\u001b[39;49m\u001b[43m \u001b[49m\u001b[38;5;241;43m0\u001b[39;49m:\n\u001b[0;32m      2\u001b[0m     \u001b[38;5;28mprint\u001b[39m(\u001b[38;5;124m\"\u001b[39m\u001b[38;5;124mPlease don\u001b[39m\u001b[38;5;124m'\u001b[39m\u001b[38;5;124mt break spacetime!\u001b[39m\u001b[38;5;124m\"\u001b[39m)\n\u001b[0;32m      3\u001b[0m     T, K, E, C, S \u001b[38;5;241m=\u001b[39m \u001b[38;5;241m0\u001b[39m, \u001b[38;5;241m0\u001b[39m, \u001b[38;5;241m0\u001b[39m, \u001b[38;5;241m0\u001b[39m, \u001b[38;5;241m0\u001b[39m\n",
      "\u001b[1;31mTypeError\u001b[0m: '<' not supported between instances of 'str' and 'int'"
     ]
    }
   ],
   "source": [
    "if L < 0:\n",
    "    print(\"Please don't break spacetime!\")\n",
    "    T, K, E, C, S = 0, 0, 0, 0, 0\n",
    "elif L == 0:\n",
    "    print(\"Nothing\")\n",
    "    T, K, E, C, S = 0, 0, 0, 0, 0\n",
    "elif L == 1:\n",
    "    print(\"No 1x1 memes please...\")\n",
    "    T, K, E, C, S = 1, 0, 0, 0, 6\n",
    "elif 1 <= L <= 11:\n",
    "    print(\"I have this one in my collection!\")\n",
    "    T = 6*L**2-12*L+8   #total pieces\n",
    "    K = 8               #corner pieces\n",
    "    E = 12*(L-2)        #edge pieces\n",
    "    C = 6*(L-2)**2      #center pieces\n",
    "    S = 6*L**2          #stickers\n",
    "else:\n",
    "    print(\"This one is pretty big!\")\n",
    "    T = 6*L**2-12*L+8   #total pieces\n",
    "    K = 8               #corner pieces\n",
    "    E = 12*(L-2)        #edge pieces\n",
    "    C = 6*(L-2)**2      #center pieces\n",
    "    S = 6*L**2          #stickers         "
   ]
  },
  {
   "cell_type": "code",
   "execution_count": 7,
   "metadata": {},
   "outputs": [
    {
     "ename": "TypeError",
     "evalue": "unsupported operand type(s) for -: 'str' and 'int'",
     "output_type": "error",
     "traceback": [
      "\u001b[1;31m---------------------------------------------------------------------------\u001b[0m",
      "\u001b[1;31mTypeError\u001b[0m                                 Traceback (most recent call last)",
      "Input \u001b[1;32mIn [7]\u001b[0m, in \u001b[0;36m<cell line: 18>\u001b[1;34m()\u001b[0m\n\u001b[0;32m     15\u001b[0m y_S_1 \u001b[38;5;241m=\u001b[39m \u001b[38;5;241m6\u001b[39m\u001b[38;5;241m*\u001b[39mx_1\u001b[38;5;241m*\u001b[39m\u001b[38;5;241m*\u001b[39m\u001b[38;5;241m2\u001b[39m   \u001b[38;5;66;03m#stickers\u001b[39;00m\n\u001b[0;32m     17\u001b[0m \u001b[38;5;66;03m#All other cube models\u001b[39;00m\n\u001b[1;32m---> 18\u001b[0m x \u001b[38;5;241m=\u001b[39m \u001b[43mnp\u001b[49m\u001b[38;5;241;43m.\u001b[39;49m\u001b[43marange\u001b[49m\u001b[43m(\u001b[49m\u001b[38;5;241;43m2\u001b[39;49m\u001b[43m,\u001b[49m\u001b[43m \u001b[49m\u001b[43mL\u001b[49m\u001b[43m,\u001b[49m\u001b[43m \u001b[49m\u001b[38;5;241;43m.01\u001b[39;49m\u001b[43m)\u001b[49m\n\u001b[0;32m     19\u001b[0m y_T \u001b[38;5;241m=\u001b[39m \u001b[38;5;241m6\u001b[39m\u001b[38;5;241m*\u001b[39mx\u001b[38;5;241m*\u001b[39m\u001b[38;5;241m*\u001b[39m\u001b[38;5;241m2\u001b[39m\u001b[38;5;241m-\u001b[39m\u001b[38;5;241m12\u001b[39m\u001b[38;5;241m*\u001b[39mx\u001b[38;5;241m+\u001b[39m\u001b[38;5;241m8\u001b[39m   \u001b[38;5;66;03m#total pieces\u001b[39;00m\n\u001b[0;32m     20\u001b[0m y_K \u001b[38;5;241m=\u001b[39m \u001b[38;5;241m0\u001b[39m\u001b[38;5;241m*\u001b[39mx\u001b[38;5;241m+\u001b[39m\u001b[38;5;241m8\u001b[39m           \u001b[38;5;66;03m#corner pieces\u001b[39;00m\n",
      "\u001b[1;31mTypeError\u001b[0m: unsupported operand type(s) for -: 'str' and 'int'"
     ]
    }
   ],
   "source": [
    "#Zero order \"cube\"\n",
    "x_0 = np.arange(0, 1, .01)\n",
    "y_T_0 = 1*x_0+0    #total pieces\n",
    "y_K_0 = 0*x_0+0    #corner pieces\n",
    "y_E_0 = 0*x_0+0    #edge pieces\n",
    "y_C_0 = 0*x_0+0    #center pieces\n",
    "y_S_0 = 6*x_0**2   #stickers\n",
    "\n",
    "#1x1 cube\n",
    "x_1 = np.arange(1, 2, .01)\n",
    "y_T_1 = 7*x_1-6    #total pieces\n",
    "y_K_1 = 0*x_1+0    #corner pieces\n",
    "y_E_1 = 0*x_1+0    #edge pieces\n",
    "y_C_1 = 0*x_1+0    #center pieces\n",
    "y_S_1 = 6*x_1**2   #stickers\n",
    "\n",
    "#All other cube models\n",
    "x = np.arange(2, L, .01)\n",
    "y_T = 6*x**2-12*x+8   #total pieces\n",
    "y_K = 0*x+8           #corner pieces\n",
    "y_E = 12*(x-2)        #edge pieces\n",
    "y_C = 6*(x-2)**2      #center pieces\n",
    "y_S = 6*x**2          #stickers"
   ]
  },
  {
   "cell_type": "code",
   "execution_count": 8,
   "metadata": {},
   "outputs": [],
   "source": [
    "#Custom plt.legend() entry\n",
    "custom_lines = [Line2D([0], [0], color = 'k', lw=2),\n",
    "                Line2D([0], [0], color = 'g', lw=2),\n",
    "                Line2D([0], [0], color = 'orange', lw=2),\n",
    "                Line2D([0], [0], color = 'b', lw=2),\n",
    "                Line2D([0], [0], color = 'r', lw=2)]\n",
    "\n",
    "labels = [\"Total Pieces\", \"Corner Pieces\", \"Edge Pieces\", \"Center Pieces\", \"Stickers\"]"
   ]
  },
  {
   "cell_type": "code",
   "execution_count": 9,
   "metadata": {},
   "outputs": [
    {
     "ename": "NameError",
     "evalue": "name 'x' is not defined",
     "output_type": "error",
     "traceback": [
      "\u001b[1;31m---------------------------------------------------------------------------\u001b[0m",
      "\u001b[1;31mNameError\u001b[0m                                 Traceback (most recent call last)",
      "Input \u001b[1;32mIn [9]\u001b[0m, in \u001b[0;36m<cell line: 1>\u001b[1;34m()\u001b[0m\n\u001b[1;32m----> 1\u001b[0m plt\u001b[38;5;241m.\u001b[39mplot(x_0, y_T_0, \u001b[38;5;124m'\u001b[39m\u001b[38;5;124mk\u001b[39m\u001b[38;5;124m'\u001b[39m, x_1, y_T_1, \u001b[38;5;124m'\u001b[39m\u001b[38;5;124mk\u001b[39m\u001b[38;5;124m'\u001b[39m, \u001b[43mx\u001b[49m, y_T, \u001b[38;5;124m'\u001b[39m\u001b[38;5;124mk\u001b[39m\u001b[38;5;124m'\u001b[39m)                  \u001b[38;5;66;03m#total pieces\u001b[39;00m\n\u001b[0;32m      2\u001b[0m plt\u001b[38;5;241m.\u001b[39mplot(x_0, y_K_0, \u001b[38;5;124m'\u001b[39m\u001b[38;5;124mg\u001b[39m\u001b[38;5;124m'\u001b[39m, x_1, y_K_1, \u001b[38;5;124m'\u001b[39m\u001b[38;5;124mg\u001b[39m\u001b[38;5;124m'\u001b[39m, x, y_K, \u001b[38;5;124m'\u001b[39m\u001b[38;5;124mg\u001b[39m\u001b[38;5;124m'\u001b[39m)                  \u001b[38;5;66;03m#corner pieces\u001b[39;00m\n\u001b[0;32m      3\u001b[0m plt\u001b[38;5;241m.\u001b[39mplot(x_0, y_E_0, \u001b[38;5;124m'\u001b[39m\u001b[38;5;124morange\u001b[39m\u001b[38;5;124m'\u001b[39m, x_1, y_E_1, \u001b[38;5;124m'\u001b[39m\u001b[38;5;124morange\u001b[39m\u001b[38;5;124m'\u001b[39m, x, y_E, \u001b[38;5;124m'\u001b[39m\u001b[38;5;124morange\u001b[39m\u001b[38;5;124m'\u001b[39m)   \u001b[38;5;66;03m#edge pieces\u001b[39;00m\n",
      "\u001b[1;31mNameError\u001b[0m: name 'x' is not defined"
     ]
    }
   ],
   "source": [
    "plt.plot(x_0, y_T_0, 'k', x_1, y_T_1, 'k', x, y_T, 'k')                  #total pieces\n",
    "plt.plot(x_0, y_K_0, 'g', x_1, y_K_1, 'g', x, y_K, 'g')                  #corner pieces\n",
    "plt.plot(x_0, y_E_0, 'orange', x_1, y_E_1, 'orange', x, y_E, 'orange')   #edge pieces\n",
    "plt.plot(x_0, y_C_0, 'y', x_1, y_C_1, 'b', x, y_C, 'b')                  #center pieces\n",
    "plt.plot(x_0, y_S_0, 'r', x_1, y_S_1, 'r', x, y_S, 'r')                  #stickers\n",
    "#plt.xticks(np.arange(0, max(x)+1, 1))\n",
    "plt.xlabel(\"Cube Oder\")\n",
    "plt.ylabel(\"Count\")\n",
    "plt.legend(custom_lines, labels)\n",
    "plt.title(\"Linear Plot (%s Layers)\" %(L))\n",
    "plt.show()\n",
    "\n",
    "plt.plot(x_0, y_T_0, 'k', x_1, y_T_1, 'k', x, y_T, 'k')                  #total pieces\n",
    "plt.plot(x_0, y_K_0, 'g', x_1, y_K_1, 'g', x, y_K, 'g')                  #corner pieces\n",
    "plt.plot(x_0, y_E_0, 'orange', x_1, y_E_1, 'orange', x, y_E, 'orange')   #edge pieces\n",
    "plt.plot(x_0, y_C_0, 'y', x_1, y_C_1, 'b', x, y_C, 'b')                  #center pieces\n",
    "plt.plot(x_0, y_S_0, 'r', x_1, y_S_1, 'r', x, y_S, 'r')                  #stickers\n",
    "#plt.xticks(np.arange(0, max(x)+1, 1))\n",
    "plt.xlabel(\"Cube Oder\")\n",
    "plt.yscale('log')\n",
    "plt.ylabel(\"Count\")\n",
    "plt.legend(custom_lines, labels)\n",
    "plt.title(\"Log Plot (%s Layers)\" %(L))\n",
    "plt.show()\n",
    "\n",
    "print(Bold + \"The %s-layed cube:\" %(L))    \n",
    "print(Blue + \"%s number of corner pieces\" %(K))     \n",
    "print(\"%s number of edge pieces\" %(E))\n",
    "print(\"%s number of center pieces\" %(C))\n",
    "print(Red + \"%s total pieces\" %(T))\n",
    "print(Yellow + \"%s total stickers\" %(S)) "
   ]
  },
  {
   "cell_type": "code",
   "execution_count": null,
   "metadata": {},
   "outputs": [],
   "source": []
  }
 ],
 "metadata": {
  "kernelspec": {
   "display_name": "Python 3 (ipykernel)",
   "language": "python",
   "name": "python3"
  },
  "language_info": {
   "codemirror_mode": {
    "name": "ipython",
    "version": 3
   },
   "file_extension": ".py",
   "mimetype": "text/x-python",
   "name": "python",
   "nbconvert_exporter": "python",
   "pygments_lexer": "ipython3",
   "version": "3.9.12"
  }
 },
 "nbformat": 4,
 "nbformat_minor": 4
}
