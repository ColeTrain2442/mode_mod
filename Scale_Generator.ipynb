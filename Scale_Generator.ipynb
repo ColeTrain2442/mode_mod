{
 "cells": [
  {
   "cell_type": "code",
   "execution_count": 1,
   "id": "e80aa556",
   "metadata": {},
   "outputs": [],
   "source": [
    "#from random import seed\n",
    "from random import randint\n",
    "import pandas as pd"
   ]
  },
  {
   "cell_type": "code",
   "execution_count": 2,
   "id": "640cf043",
   "metadata": {},
   "outputs": [],
   "source": [
    "scales = pd.read_csv(\"Scales.csv\")\n",
    "#print(scales)"
   ]
  },
  {
   "cell_type": "code",
   "execution_count": 3,
   "id": "6db7b145",
   "metadata": {},
   "outputs": [],
   "source": [
    "key = scales['Key']\n",
    "major = scales['Major']\n",
    "natural = scales['Natural_Minor']\n",
    "harmonic = scales['Harmonic_Minor']"
   ]
  },
  {
   "cell_type": "code",
   "execution_count": 6,
   "id": "dda11e77",
   "metadata": {},
   "outputs": [
    {
     "name": "stdout",
     "output_type": "stream",
     "text": [
      "Randomly selected major scale: F\n",
      "G-A-B♭-C-D-E-F\n"
     ]
    }
   ],
   "source": [
    "val_maj_key = randint(0, 11)\n",
    "print(f'Randomly selected major scale: {key[val_maj_key]}')\n",
    "scale = major[val_maj_key]\n",
    "print(scale)"
   ]
  },
  {
   "cell_type": "code",
   "execution_count": null,
   "id": "d698120b",
   "metadata": {},
   "outputs": [],
   "source": []
  },
  {
   "cell_type": "code",
   "execution_count": null,
   "id": "50d8b848",
   "metadata": {},
   "outputs": [],
   "source": []
  }
 ],
 "metadata": {
  "kernelspec": {
   "display_name": "Python 3 (ipykernel)",
   "language": "python",
   "name": "python3"
  },
  "language_info": {
   "codemirror_mode": {
    "name": "ipython",
    "version": 3
   },
   "file_extension": ".py",
   "mimetype": "text/x-python",
   "name": "python",
   "nbconvert_exporter": "python",
   "pygments_lexer": "ipython3",
   "version": "3.9.12"
  }
 },
 "nbformat": 4,
 "nbformat_minor": 5
}
