{
 "cells": [
  {
   "cell_type": "code",
   "execution_count": 1,
   "id": "e26586ba",
   "metadata": {},
   "outputs": [],
   "source": [
    "import os\n",
    "import shutil\n",
    "from mutagen.easyid3 import EasyID3"
   ]
  },
  {
   "cell_type": "code",
   "execution_count": 11,
   "id": "a3d31509",
   "metadata": {},
   "outputs": [
    {
     "data": {
      "text/plain": [
       "['Mike Oldfield - Tubular Bells III - Moonwatch.mp3',\n",
       " 'Mike Oldfield - Tubular Bells III - Outcast.mp3',\n",
       " 'Mike Oldfield - Tubular Bells III - Secrets.mp3',\n",
       " 'Mike Oldfield - Tubular Bells III(001)The Sourc.mp3',\n",
       " 'Mike Oldfield - Tubular Bells III(002)The Watch.mp3',\n",
       " 'Mike Oldfield - Tubular Bells III(003)Jewel In .mp3',\n",
       " 'Mike Oldfield - Tubular Bells III(005)Serpent D.mp3',\n",
       " 'Mike Oldfield - Tubular Bells III(006)The Inner.mp3',\n",
       " 'Mike Oldfield - Tubular Bells III(007)Man In Th.mp3',\n",
       " 'Mike Oldfield - Tubular Bells III(008)The Top O.mp3',\n",
       " 'Mike Oldfield - Tubular Bells III(011)Far Above.mp3']"
      ]
     },
     "execution_count": 11,
     "metadata": {},
     "output_type": "execute_result"
    }
   ],
   "source": [
    "# Set the directory where the MP3 files are located\n",
    "directory = r\"\\Users\\Coleman\\Desktop\\USB backup\\Music\\Unfinished\\Mike Oldfield\\Tubular Bells III\"\n",
    "os.listdir(directory)"
   ]
  },
  {
   "cell_type": "code",
   "execution_count": 12,
   "id": "d2df98be",
   "metadata": {},
   "outputs": [
    {
     "data": {
      "text/plain": [
       "['Far Above The Clouds.mp3',\n",
       " 'Jewel In The Crown.mp3',\n",
       " 'Man In The Rain.mp3',\n",
       " 'Moonwatch.mp3',\n",
       " 'Outcast.mp3',\n",
       " 'Secrets.mp3',\n",
       " 'Serpent Dream.mp3',\n",
       " 'The Inner Child.mp3',\n",
       " 'The Source Of Secrets.mp3',\n",
       " 'The Top Of The Morning.mp3',\n",
       " 'The Watchful Eye.mp3']"
      ]
     },
     "execution_count": 12,
     "metadata": {},
     "output_type": "execute_result"
    }
   ],
   "source": [
    "# iterate through all files in the directory\n",
    "for filename in os.listdir(directory):\n",
    "    if filename.endswith(\".mp3\"):\n",
    "        # load the metadata for the mp3 file\n",
    "        audio = EasyID3(os.path.join(directory, filename))\n",
    "        \n",
    "        # extract the song title from the metadata\n",
    "        title = audio['title'][0]\n",
    "        \n",
    "        # rename the file with the song title and move to the same directory\n",
    "        os.rename(os.path.join(directory, filename), os.path.join(directory, title + \".mp3\"))\n",
    "os.listdir(directory)"
   ]
  },
  {
   "cell_type": "code",
   "execution_count": null,
   "id": "ec328016",
   "metadata": {},
   "outputs": [],
   "source": []
  }
 ],
 "metadata": {
  "kernelspec": {
   "display_name": "Python 3 (ipykernel)",
   "language": "python",
   "name": "python3"
  },
  "language_info": {
   "codemirror_mode": {
    "name": "ipython",
    "version": 3
   },
   "file_extension": ".py",
   "mimetype": "text/x-python",
   "name": "python",
   "nbconvert_exporter": "python",
   "pygments_lexer": "ipython3",
   "version": "3.9.12"
  }
 },
 "nbformat": 4,
 "nbformat_minor": 5
}
