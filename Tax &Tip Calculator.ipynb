{
 "cells": [
  {
   "cell_type": "code",
   "execution_count": null,
   "metadata": {},
   "outputs": [],
   "source": [
    "import math"
   ]
  },
  {
   "cell_type": "code",
   "execution_count": null,
   "metadata": {},
   "outputs": [],
   "source": [
    "C = float(input(\"How much is your bill in dollars? \"))\n",
    "if C < 0:\n",
    "    print(\"Congratulations on the refund!\")\n",
    "elif C == 0:\n",
    "    print(\"Well, why are you here?\")\n",
    "else:\n",
    "    print(\"So, your bill is\", C , \"dollars.\")\n",
    "p_1 = float(input(\"What percent tax is applied to your bill? \"))\n",
    "P_1 = p_1 * 0.01\n",
    "A = round((P_1 * C), 2)\n",
    "T_1 = round((A + C), 2)\n",
    "print(\"You owe an additional\", A, \"dollars in tax.\")\n",
    "print(\"That makes your total bill equal to\", T_1, \"dollars\")\n",
    "p_2 = float(input(\"What percent tip would you like to include? \"))\n",
    "P_2 = p_2 * 0.01\n",
    "I = round((P_2 * T_1), 2)\n",
    "T_2 = round((I + T_1), 2)\n",
    "print(\"You owe an additional\", I, \"dollars in tip.\")\n",
    "print(\"That makes your total bill after tax and tip equal to\", T_2, \"dollars\")\n",
    "print(\"---------------------------------------------------------------------\")\n",
    "print(\"Total:\", C, \"dollars\")\n",
    "print(\"Tax:\", A, \"dollars\")\n",
    "print(\"Tip:\", I, \"dollars\")\n",
    "print(\"---------------------------------------------------------------------\")\n",
    "print(\"Subtotal:\", T_2, \"dollars\")"
   ]
  },
  {
   "cell_type": "markdown",
   "metadata": {},
   "source": [
    "# Segmented Code:"
   ]
  },
  {
   "cell_type": "code",
   "execution_count": null,
   "metadata": {},
   "outputs": [],
   "source": [
    "#input cost of item(s) below\n",
    "C = float(input(\"How much is your bill in dollars? \"))"
   ]
  },
  {
   "cell_type": "code",
   "execution_count": null,
   "metadata": {},
   "outputs": [],
   "source": [
    "if C < 0:\n",
    "    print(\"Congratulations on the refund!\")\n",
    "elif C == 0:\n",
    "    print(\"Well, why are you here?\")\n",
    "else:\n",
    "    print(\"So, your bill is\", C , \"dollars.\")"
   ]
  },
  {
   "cell_type": "code",
   "execution_count": null,
   "metadata": {
    "scrolled": true
   },
   "outputs": [],
   "source": [
    "#input percent tax applied to bill below\n",
    "p_1 = float(input(\"What percent tax is applied to your bill? \"))   #percent tax\n",
    "P_1 = p_1 * 0.01                                                   #percent tax as a decimal\n",
    "A = round((P_1 * C), 2)                                            #rounded tax amount\n",
    "T_1 = round((A + C), 2)                                            #rounded total"
   ]
  },
  {
   "cell_type": "code",
   "execution_count": null,
   "metadata": {},
   "outputs": [],
   "source": [
    "print(\"You owe an additional\", A, \"dollars in tax.\")\n",
    "print(\"That makes your total bill equal to\", T_1, \"dollars\")"
   ]
  },
  {
   "cell_type": "code",
   "execution_count": null,
   "metadata": {},
   "outputs": [],
   "source": [
    "#input additional tip to bill below (assumes tip on tax)\n",
    "p_2 = float(input(\"What percent tip would you like to include? \"))   #percent tip\n",
    "P_2 = p_2 * 0.01                                                     #percent tip as a decimal\n",
    "I = round((P_2 * T_1), 2)                                            #rounded tip amount\n",
    "T_2 = round((I + T_1), 2)                                            #rounded total"
   ]
  },
  {
   "cell_type": "code",
   "execution_count": null,
   "metadata": {},
   "outputs": [],
   "source": [
    "print(\"You owe an additional\", I, \"dollars in tip.\")\n",
    "print(\"That makes your total bill after tax and tip equal to\", T_2, \"dollars\")"
   ]
  },
  {
   "cell_type": "code",
   "execution_count": null,
   "metadata": {},
   "outputs": [],
   "source": [
    "print(\"---------------------------------------------------------------------\")\n",
    "print(\"Total:\", C, \"dollars\")\n",
    "print(\"Tax:\", A, \"dollars\")\n",
    "print(\"Tip:\", I, \"dollars\")"
   ]
  },
  {
   "cell_type": "code",
   "execution_count": null,
   "metadata": {},
   "outputs": [],
   "source": [
    "print(\"---------------------------------------------------------------------\")\n",
    "print(\"Subtotal:\", T_2, \"dollars\")"
   ]
  },
  {
   "cell_type": "code",
   "execution_count": null,
   "metadata": {},
   "outputs": [],
   "source": []
  }
 ],
 "metadata": {
  "kernelspec": {
   "display_name": "Python 3",
   "language": "python",
   "name": "python3"
  },
  "language_info": {
   "codemirror_mode": {
    "name": "ipython",
    "version": 3
   },
   "file_extension": ".py",
   "mimetype": "text/x-python",
   "name": "python",
   "nbconvert_exporter": "python",
   "pygments_lexer": "ipython3",
   "version": "3.7.6"
  }
 },
 "nbformat": 4,
 "nbformat_minor": 4
}
